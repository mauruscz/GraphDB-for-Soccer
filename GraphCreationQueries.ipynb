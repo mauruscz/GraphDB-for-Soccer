{
 "cells": [
  {
   "cell_type": "code",
   "execution_count": 1,
   "metadata": {},
   "outputs": [],
   "source": [
    "from py2neo import Graph, Node, Relationship"
   ]
  },
  {
   "cell_type": "code",
   "execution_count": 4,
   "metadata": {},
   "outputs": [],
   "source": [
    "g=Graph(\"bolt://localhost:7687\",password=\"1234\")"
   ]
  },
  {
   "cell_type": "code",
   "execution_count": 5,
   "metadata": {},
   "outputs": [
    {
     "output_type": "execute_result",
     "data": {
      "text/plain": "<py2neo.database.Cursor at 0x7ffedcbd6a00>"
     },
     "metadata": {},
     "execution_count": 5
    }
   ],
   "source": [
    "g.run(\"MATCH (n) DETACH DELETE n\")\n",
    "#g.run(\"MATCH(n) WITH n LIMIT 500000 DETACH DELETE n RETURN count(*);\")\n",
    "#g.run(\"CALL apoc.schema.assert({}, {})\")\n",
    "#g.run(\"MATCH ()-[r:]->() DELETE r\")"
   ]
  },
  {
   "cell_type": "markdown",
   "metadata": {},
   "source": [
    "# CREATING PLAYER NODES"
   ]
  },
  {
   "cell_type": "code",
   "execution_count": 6,
   "metadata": {},
   "outputs": [],
   "source": [
    "query1= '''\n",
    "USING PERIODIC COMMIT\n",
    "LOAD CSV WITH HEADERS FROM \"file:///transfers.csv\" AS row\n",
    "MERGE (player:Player{name:row.Name})\n",
    "ON CREATE SET player.position = row.Position, player.Image = row.Player_image\n",
    "'''"
   ]
  },
  {
   "cell_type": "code",
   "execution_count": 7,
   "metadata": {},
   "outputs": [
    {
     "output_type": "execute_result",
     "data": {
      "text/plain": "<py2neo.database.Cursor at 0x7ffedeb3bbb0>"
     },
     "metadata": {},
     "execution_count": 7
    }
   ],
   "source": [
    "g.run(query1)"
   ]
  },
  {
   "cell_type": "markdown",
   "metadata": {},
   "source": [
    "# CREATING COUNTRY NODES"
   ]
  },
  {
   "cell_type": "code",
   "execution_count": 8,
   "metadata": {},
   "outputs": [],
   "source": [
    "query2= '''\n",
    "USING PERIODIC COMMIT\n",
    "LOAD CSV WITH HEADERS FROM \"file:///transfers.csv\" AS row\n",
    "MERGE (country:Country{name:row.Player_nationality})\n",
    "'''"
   ]
  },
  {
   "cell_type": "code",
   "execution_count": 9,
   "metadata": {},
   "outputs": [
    {
     "output_type": "execute_result",
     "data": {
      "text/plain": "<py2neo.database.Cursor at 0x7ffedc3370d0>"
     },
     "metadata": {},
     "execution_count": 9
    }
   ],
   "source": [
    "g.run(query2)"
   ]
  },
  {
   "cell_type": "markdown",
   "metadata": {},
   "source": [
    "# CREATING CLUB NODES"
   ]
  },
  {
   "cell_type": "code",
   "execution_count": 10,
   "metadata": {},
   "outputs": [],
   "source": [
    "query3= '''\n",
    "USING PERIODIC COMMIT\n",
    "LOAD CSV WITH HEADERS FROM \"file:///transfers.csv\" AS row\n",
    "MERGE (club:Club{name:row.Team_from})\n",
    "'''"
   ]
  },
  {
   "cell_type": "code",
   "execution_count": 11,
   "metadata": {},
   "outputs": [
    {
     "output_type": "execute_result",
     "data": {
      "text/plain": "<py2neo.database.Cursor at 0x7ffedc324070>"
     },
     "metadata": {},
     "execution_count": 11
    }
   ],
   "source": [
    "g.run(query3)"
   ]
  },
  {
   "cell_type": "code",
   "execution_count": 12,
   "metadata": {},
   "outputs": [],
   "source": [
    "query4= '''\n",
    "USING PERIODIC COMMIT\n",
    "LOAD CSV WITH HEADERS FROM \"file:///transfers.csv\" AS row\n",
    "MERGE (club:Club{name:row.Team_to})\n",
    "'''"
   ]
  },
  {
   "cell_type": "code",
   "execution_count": 13,
   "metadata": {},
   "outputs": [
    {
     "output_type": "execute_result",
     "data": {
      "text/plain": "<py2neo.database.Cursor at 0x7ffedeb3bc70>"
     },
     "metadata": {},
     "execution_count": 13
    }
   ],
   "source": [
    "g.run(query4)"
   ]
  },
  {
   "cell_type": "markdown",
   "metadata": {},
   "source": [
    "# CREATING LEAGUES NODES"
   ]
  },
  {
   "cell_type": "code",
   "execution_count": 14,
   "metadata": {},
   "outputs": [],
   "source": [
    "query5= '''\n",
    "USING PERIODIC COMMIT\n",
    "LOAD CSV WITH HEADERS FROM \"file:///transfers.csv\" AS row\n",
    "MERGE (league:League{name:row.League_from})\n",
    "'''"
   ]
  },
  {
   "cell_type": "code",
   "execution_count": 15,
   "metadata": {},
   "outputs": [
    {
     "output_type": "execute_result",
     "data": {
      "text/plain": "<py2neo.database.Cursor at 0x7ffedc35ed60>"
     },
     "metadata": {},
     "execution_count": 15
    }
   ],
   "source": [
    "g.run(query5)"
   ]
  },
  {
   "cell_type": "code",
   "execution_count": 16,
   "metadata": {},
   "outputs": [],
   "source": [
    "query6= '''\n",
    "USING PERIODIC COMMIT\n",
    "LOAD CSV WITH HEADERS FROM \"file:///transfers.csv\" AS row\n",
    "MERGE (league:League{name:row.League_to})\n",
    "'''"
   ]
  },
  {
   "cell_type": "code",
   "execution_count": 17,
   "metadata": {},
   "outputs": [
    {
     "output_type": "execute_result",
     "data": {
      "text/plain": "<py2neo.database.Cursor at 0x7ffedec25a90>"
     },
     "metadata": {},
     "execution_count": 17
    }
   ],
   "source": [
    "g.run(query6)"
   ]
  },
  {
   "cell_type": "markdown",
   "metadata": {},
   "source": [
    "# CREATING TRANSFER NODES"
   ]
  },
  {
   "cell_type": "code",
   "execution_count": 20,
   "metadata": {},
   "outputs": [],
   "source": [
    "query= '''\n",
    "USING PERIODIC COMMIT\n",
    "LOAD CSV WITH HEADERS FROM \"file:///transfers.csv\" AS row\n",
    "MERGE (transfer:Transfer{\n",
    "    id: row.ID,\n",
    "    fee: row.Transfer_fee\n",
    "    })\n",
    "'''"
   ]
  },
  {
   "cell_type": "code",
   "execution_count": 21,
   "metadata": {},
   "outputs": [
    {
     "output_type": "execute_result",
     "data": {
      "text/plain": "<py2neo.database.Cursor at 0x7ffedec25820>"
     },
     "metadata": {},
     "execution_count": 21
    }
   ],
   "source": [
    "g.run(query)"
   ]
  },
  {
   "cell_type": "markdown",
   "metadata": {},
   "source": [
    "# CREATING SEASON NODES"
   ]
  },
  {
   "cell_type": "code",
   "execution_count": 22,
   "metadata": {},
   "outputs": [],
   "source": [
    "queryS= '''\n",
    "USING PERIODIC COMMIT\n",
    "LOAD CSV WITH HEADERS FROM \"file:///transfers.csv\" AS row\n",
    "MERGE (season:Season{year: row.Season   })\n",
    "'''"
   ]
  },
  {
   "cell_type": "code",
   "execution_count": 23,
   "metadata": {},
   "outputs": [
    {
     "output_type": "execute_result",
     "data": {
      "text/plain": "<py2neo.database.Cursor at 0x7ffedec25ca0>"
     },
     "metadata": {},
     "execution_count": 23
    }
   ],
   "source": [
    "g.run(queryS)"
   ]
  },
  {
   "cell_type": "markdown",
   "metadata": {},
   "source": [
    "# CREATING ROLE NODES"
   ]
  },
  {
   "cell_type": "code",
   "execution_count": 24,
   "metadata": {},
   "outputs": [],
   "source": [
    "queryR= '''\n",
    "USING PERIODIC COMMIT\n",
    "LOAD CSV WITH HEADERS FROM \"file:///transfers.csv\" AS row\n",
    "MERGE (role:Role{position: row.Position})\n",
    "'''"
   ]
  },
  {
   "cell_type": "code",
   "execution_count": 25,
   "metadata": {},
   "outputs": [
    {
     "output_type": "execute_result",
     "data": {
      "text/plain": "<py2neo.database.Cursor at 0x7ffedec25790>"
     },
     "metadata": {},
     "execution_count": 25
    }
   ],
   "source": [
    "g.run(queryR)"
   ]
  },
  {
   "cell_type": "markdown",
   "metadata": {},
   "source": [
    "# CREATING NATIONALITY EDGES"
   ]
  },
  {
   "cell_type": "code",
   "execution_count": 26,
   "metadata": {},
   "outputs": [],
   "source": [
    "query7 = '''\n",
    "LOAD CSV WITH HEADERS FROM \"file:///transfers.csv\" AS csvLine\n",
    "MATCH (pl:Player), (co:Country)\n",
    "WHERE pl.name = csvLine.Name AND co.name = csvLine.Player_nationality\n",
    "MERGE (pl) -[r:nationality]-> (co) \n",
    "'''"
   ]
  },
  {
   "cell_type": "code",
   "execution_count": 27,
   "metadata": {},
   "outputs": [
    {
     "output_type": "execute_result",
     "data": {
      "text/plain": "<py2neo.database.Cursor at 0x7ffedec25940>"
     },
     "metadata": {},
     "execution_count": 27
    }
   ],
   "source": [
    "g.run(query7)"
   ]
  },
  {
   "cell_type": "markdown",
   "metadata": {},
   "source": [
    "# CREATING PLAYS_IN EDGES"
   ]
  },
  {
   "cell_type": "code",
   "execution_count": 28,
   "metadata": {},
   "outputs": [],
   "source": [
    "query8 = '''\n",
    "LOAD CSV WITH HEADERS FROM \"file:///transfers.csv\" AS csvLine\n",
    "MATCH (cl:Club), (le:League)\n",
    "WHERE cl.name = csvLine.Team_from AND le.name = csvLine.League_from\n",
    "MERGE (cl) -[r:plays_in]-> (le) \n",
    "'''"
   ]
  },
  {
   "cell_type": "code",
   "execution_count": 31,
   "metadata": {},
   "outputs": [
    {
     "output_type": "execute_result",
     "data": {
      "text/plain": "<py2neo.database.Cursor at 0x7ffedc38f040>"
     },
     "metadata": {},
     "execution_count": 31
    }
   ],
   "source": [
    "g.run(query8)"
   ]
  },
  {
   "cell_type": "raw",
   "metadata": {},
   "source": [
    "g.run(query8)"
   ]
  },
  {
   "cell_type": "code",
   "execution_count": 32,
   "metadata": {},
   "outputs": [],
   "source": [
    "query9 = '''\n",
    "LOAD CSV WITH HEADERS FROM \"file:///transfers.csv\" AS csvLine\n",
    "MATCH (cl:Club), (le:League)\n",
    "WHERE cl.name = csvLine.Team_to AND le.name = csvLine.League_to\n",
    "MERGE (cl) -[r:plays_in]-> (le) \n",
    "'''"
   ]
  },
  {
   "cell_type": "code",
   "execution_count": 33,
   "metadata": {},
   "outputs": [
    {
     "output_type": "execute_result",
     "data": {
      "text/plain": "<py2neo.database.Cursor at 0x7ffedc35e3a0>"
     },
     "metadata": {},
     "execution_count": 33
    }
   ],
   "source": [
    "g.run(query9)"
   ]
  },
  {
   "cell_type": "markdown",
   "metadata": {},
   "source": [
    "# CREATING TRANSFER -> TEAMFROM/TO EDGES"
   ]
  },
  {
   "cell_type": "code",
   "execution_count": 34,
   "metadata": {},
   "outputs": [],
   "source": [
    "query10 = '''\n",
    "LOAD CSV WITH HEADERS FROM \"file:///transfers.csv\" AS csvLine\n",
    "MATCH (tr:Transfer), (cl:Club)\n",
    "WHERE tr.id = csvLine.ID AND cl.name = csvLine.Team_from\n",
    "MERGE (tr) -[r:teamFrom]-> (cl) \n",
    "'''"
   ]
  },
  {
   "cell_type": "code",
   "execution_count": 35,
   "metadata": {},
   "outputs": [
    {
     "output_type": "execute_result",
     "data": {
      "text/plain": "<py2neo.database.Cursor at 0x7ffedeb2fe20>"
     },
     "metadata": {},
     "execution_count": 35
    }
   ],
   "source": [
    "g.run(query10)"
   ]
  },
  {
   "cell_type": "code",
   "execution_count": 36,
   "metadata": {},
   "outputs": [],
   "source": [
    "query11 = '''\n",
    "LOAD CSV WITH HEADERS FROM \"file:///transfers.csv\" AS csvLine\n",
    "MATCH (tr:Transfer), (cl:Club)\n",
    "WHERE tr.id = csvLine.ID AND cl.name = csvLine.Team_to\n",
    "MERGE (tr) -[r:teamTo]-> (cl) \n",
    "'''"
   ]
  },
  {
   "cell_type": "code",
   "execution_count": 37,
   "metadata": {},
   "outputs": [
    {
     "output_type": "execute_result",
     "data": {
      "text/plain": "<py2neo.database.Cursor at 0x7ffedeb3b1f0>"
     },
     "metadata": {},
     "execution_count": 37
    }
   ],
   "source": [
    "g.run(query11)"
   ]
  },
  {
   "cell_type": "markdown",
   "metadata": {},
   "source": [
    "# CREATING TRANSFER -> PLAYER_INVOLVED EDGES"
   ]
  },
  {
   "cell_type": "code",
   "execution_count": 38,
   "metadata": {},
   "outputs": [],
   "source": [
    "query12 = '''\n",
    "LOAD CSV WITH HEADERS FROM \"file:///transfers.csv\" AS csvLine\n",
    "MATCH (tr:Transfer), (pl:Player)\n",
    "WHERE tr.id = csvLine.ID AND pl.name = csvLine.Name\n",
    "MERGE (tr) -[r:playerInvolved]-> (pl) \n",
    "SET r.Age=csvLine.Age, r.MarketValue = csvLine.Market_value\n",
    "'''"
   ]
  },
  {
   "cell_type": "code",
   "execution_count": 39,
   "metadata": {},
   "outputs": [
    {
     "output_type": "execute_result",
     "data": {
      "text/plain": "<py2neo.database.Cursor at 0x7ffedeb3b370>"
     },
     "metadata": {},
     "execution_count": 39
    }
   ],
   "source": [
    "g.run(query12)"
   ]
  },
  {
   "cell_type": "markdown",
   "metadata": {},
   "source": [
    "# CREATING PLAYER -> PLAYSAS EDGES"
   ]
  },
  {
   "cell_type": "code",
   "execution_count": 48,
   "metadata": {},
   "outputs": [],
   "source": [
    "query13 = '''\n",
    "LOAD CSV WITH HEADERS FROM \"file:///transfers.csv\" AS csvLine\n",
    "MATCH (pl:Player), (ro:Role)\n",
    "WHERE pl.name = csvLine.Name AND ro.position = csvLine.Position\n",
    "MERGE (pl) -[r:playsAs]-> (ro) \n",
    "'''"
   ]
  },
  {
   "cell_type": "code",
   "execution_count": 49,
   "metadata": {},
   "outputs": [
    {
     "output_type": "execute_result",
     "data": {
      "text/plain": "<py2neo.database.Cursor at 0x7ffee08531c0>"
     },
     "metadata": {},
     "execution_count": 49
    }
   ],
   "source": [
    "g.run(query13)"
   ]
  },
  {
   "cell_type": "markdown",
   "metadata": {},
   "source": [
    "# CREATING TRANSFER -> TRANSFERSEASON EDGES"
   ]
  },
  {
   "cell_type": "code",
   "execution_count": 50,
   "metadata": {},
   "outputs": [],
   "source": [
    "query14 = '''\n",
    "LOAD CSV WITH HEADERS FROM \"file:///transfers.csv\" AS csvLine\n",
    "MATCH (tr:Transfer), (se:Season)\n",
    "WHERE tr.id = csvLine.ID AND se.year = csvLine.Season\n",
    "MERGE (tr) -[r:transferSeason]-> (se)\n",
    "'''"
   ]
  },
  {
   "cell_type": "code",
   "execution_count": 51,
   "metadata": {},
   "outputs": [
    {
     "output_type": "execute_result",
     "data": {
      "text/plain": "<py2neo.database.Cursor at 0x7ffee04591c0>"
     },
     "metadata": {},
     "execution_count": 51
    }
   ],
   "source": [
    "g.run(query14)"
   ]
  },
  {
   "cell_type": "markdown",
   "metadata": {},
   "source": [
    "# ------- transfer as Edge ------- #"
   ]
  },
  {
   "cell_type": "code",
   "execution_count": 46,
   "metadata": {},
   "outputs": [],
   "source": [
    "query15 = '''\n",
    "LOAD CSV WITH HEADERS FROM \"file:///transfers.csv\" AS csvLine\n",
    "MATCH (cl1:Club), (cl2:Club)\n",
    "WHERE cl1.name = csvLine.Team_from AND cl2.name = csvLine.Team_to\n",
    "MERGE (cl1) -[r:transfer]-> (cl2) \n",
    "SET r.fee=csvLine.Transfer_fee, r.type= csvLine.type, r.season= csvLine.Season, r.player = csvLine.Name, r.Market_value = csvLine.Market_value\n",
    "'''"
   ]
  },
  {
   "cell_type": "code",
   "execution_count": 47,
   "metadata": {},
   "outputs": [
    {
     "output_type": "execute_result",
     "data": {
      "text/plain": "<py2neo.database.Cursor at 0x7ffee0fdf1f0>"
     },
     "metadata": {},
     "execution_count": 47
    }
   ],
   "source": [
    "g.run(query15)"
   ]
  },
  {
   "cell_type": "code",
   "execution_count": null,
   "metadata": {},
   "outputs": [],
   "source": [
    "MATCH (c2:Club)-[tr:transfer]->(c1:Club)<-[tto:teamTo]-(t:Transfer)-[ts:transferSeason]->(s:Season)\n",
    "\n",
    "RETURN s.year, c1.name, COUNT(ts) AS numberOfBuys\n",
    "ORDER BY numberOfBuys DESC"
   ]
  }
 ],
 "metadata": {
  "kernelspec": {
   "display_name": "Python 3.8.1 64-bit",
   "language": "python",
   "name": "python38164bit2cdb44c7a3b64c3486c811148bc698f7"
  },
  "language_info": {
   "codemirror_mode": {
    "name": "ipython",
    "version": 3
   },
   "file_extension": ".py",
   "mimetype": "text/x-python",
   "name": "python",
   "nbconvert_exporter": "python",
   "pygments_lexer": "ipython3",
   "version": "3.8.1-final"
  }
 },
 "nbformat": 4,
 "nbformat_minor": 4
}